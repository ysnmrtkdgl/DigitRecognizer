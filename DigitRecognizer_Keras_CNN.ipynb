{
 "cells": [
  {
   "cell_type": "code",
   "execution_count": 17,
   "metadata": {},
   "outputs": [],
   "source": [
    "import numpy as np # linear algebra\n",
    "import pandas as pd # data processing, CSV file I/O (e.g. pd.read_csv)\n",
    "\n",
    "import matplotlib.pyplot as plt\n",
    "%matplotlib inline\n",
    "\n",
    "from keras.utils.np_utils import to_categorical\n",
    "from keras.models import Sequential\n",
    "from keras.layers import Dense , Dropout , Lambda, Flatten\n",
    "from keras.optimizers import Adam ,RMSprop\n",
    "from sklearn.model_selection import train_test_split\n",
    "from keras import  backend as K\n",
    "from keras.preprocessing.image import ImageDataGenerator\n",
    "from keras.callbacks import EarlyStopping\n",
    "from keras.layers import BatchNormalization, Convolution2D , MaxPooling2D"
   ]
  },
  {
   "cell_type": "code",
   "execution_count": 5,
   "metadata": {},
   "outputs": [
    {
     "name": "stdout",
     "output_type": "stream",
     "text": [
      "(42000, 785)\n",
      "(28000, 784)\n"
     ]
    }
   ],
   "source": [
    "train = pd.read_csv(\"train.csv\")\n",
    "test= pd.read_csv(\"test.csv\")\n",
    "print(train.shape)\n",
    "print(test.shape)"
   ]
  },
  {
   "cell_type": "code",
   "execution_count": 7,
   "metadata": {},
   "outputs": [
    {
     "name": "stdout",
     "output_type": "stream",
     "text": [
      "(42000, 28, 28, 1)\n",
      "(28000, 28, 28, 1)\n"
     ]
    }
   ],
   "source": [
    "X_train = (train.iloc[:,1:].values).astype('float32') # all pixel values\n",
    "y_train = train.iloc[:,0].values.astype('int32') # only labels i.e targets digits\n",
    "X_test = test.values.astype('float32')\n",
    "X_train = X_train.reshape(X_train.shape[0], 28, 28,1)\n",
    "X_test = X_test.reshape(X_test.shape[0], 28, 28,1)\n",
    "print(X_train.shape)\n",
    "print(X_test.shape)"
   ]
  },
  {
   "cell_type": "code",
   "execution_count": 21,
   "metadata": {},
   "outputs": [
    {
     "name": "stdout",
     "output_type": "stream",
     "text": [
      "2.8897537e-08\n",
      "1.0\n"
     ]
    }
   ],
   "source": [
    "mean = X_train.mean().astype(np.float32)\n",
    "std = X_train.std().astype(np.float32)\n",
    "\n",
    "def standardize (X):\n",
    "    return  (X - mean) / std\n",
    "\n",
    "print(X_train.mean())\n",
    "print(X_train.std())"
   ]
  },
  {
   "cell_type": "code",
   "execution_count": 16,
   "metadata": {},
   "outputs": [
    {
     "data": {
      "text/plain": [
       "10"
      ]
     },
     "execution_count": 16,
     "metadata": {},
     "output_type": "execute_result"
    }
   ],
   "source": [
    "y_train= to_categorical(y_train)\n",
    "num_classes = y_train.shape[1]\n",
    "num_classes"
   ]
  },
  {
   "cell_type": "code",
   "execution_count": 18,
   "metadata": {},
   "outputs": [],
   "source": [
    "def CNN_model():\n",
    "    model = Sequential([\n",
    "        Lambda(standardize, input_shape=(28,28,1)),\n",
    "        Convolution2D(32,(3,3), activation='relu'),\n",
    "        BatchNormalization(axis=1),\n",
    "        Convolution2D(32,(3,3), activation='relu'),\n",
    "        MaxPooling2D(),\n",
    "        BatchNormalization(axis=1),\n",
    "        Convolution2D(64,(3,3), activation='relu'),\n",
    "        BatchNormalization(axis=1),\n",
    "        Convolution2D(64,(3,3), activation='relu'),\n",
    "        MaxPooling2D(),\n",
    "        Flatten(),\n",
    "        BatchNormalization(),\n",
    "        Dense(512, activation='relu'),\n",
    "        BatchNormalization(),\n",
    "        Dense(10, activation='softmax')\n",
    "        ])\n",
    "    model.compile(Adam(), loss='categorical_crossentropy', metrics=['accuracy'])\n",
    "    return model"
   ]
  },
  {
   "cell_type": "code",
   "execution_count": 25,
   "metadata": {},
   "outputs": [
    {
     "name": "stdout",
     "output_type": "stream",
     "text": [
      "_________________________________________________________________\n",
      "Layer (type)                 Output Shape              Param #   \n",
      "=================================================================\n",
      "lambda_4 (Lambda)            (None, 28, 28, 1)         0         \n",
      "_________________________________________________________________\n",
      "conv2d_13 (Conv2D)           (None, 26, 26, 32)        320       \n",
      "_________________________________________________________________\n",
      "batch_normalization_16 (Batc (None, 26, 26, 32)        104       \n",
      "_________________________________________________________________\n",
      "conv2d_14 (Conv2D)           (None, 24, 24, 32)        9248      \n",
      "_________________________________________________________________\n",
      "max_pooling2d_7 (MaxPooling2 (None, 12, 12, 32)        0         \n",
      "_________________________________________________________________\n",
      "batch_normalization_17 (Batc (None, 12, 12, 32)        48        \n",
      "_________________________________________________________________\n",
      "conv2d_15 (Conv2D)           (None, 10, 10, 64)        18496     \n",
      "_________________________________________________________________\n",
      "batch_normalization_18 (Batc (None, 10, 10, 64)        40        \n",
      "_________________________________________________________________\n",
      "conv2d_16 (Conv2D)           (None, 8, 8, 64)          36928     \n",
      "_________________________________________________________________\n",
      "max_pooling2d_8 (MaxPooling2 (None, 4, 4, 64)          0         \n",
      "_________________________________________________________________\n",
      "flatten_4 (Flatten)          (None, 1024)              0         \n",
      "_________________________________________________________________\n",
      "batch_normalization_19 (Batc (None, 1024)              4096      \n",
      "_________________________________________________________________\n",
      "dense_7 (Dense)              (None, 512)               524800    \n",
      "_________________________________________________________________\n",
      "batch_normalization_20 (Batc (None, 512)               2048      \n",
      "_________________________________________________________________\n",
      "dense_8 (Dense)              (None, 10)                5130      \n",
      "=================================================================\n",
      "Total params: 601,258\n",
      "Trainable params: 598,090\n",
      "Non-trainable params: 3,168\n",
      "_________________________________________________________________\n"
     ]
    }
   ],
   "source": [
    "model= CNN_model()\n",
    "model.summary()"
   ]
  },
  {
   "cell_type": "code",
   "execution_count": 26,
   "metadata": {},
   "outputs": [
    {
     "name": "stdout",
     "output_type": "stream",
     "text": [
      "Epoch 1/1\n",
      "42000/42000 [==============================] - 238s 6ms/step - loss: 0.1157 - acc: 0.9648\n"
     ]
    },
    {
     "data": {
      "text/plain": [
       "<keras.callbacks.History at 0x38b95d68>"
      ]
     },
     "execution_count": 26,
     "metadata": {},
     "output_type": "execute_result"
    }
   ],
   "source": [
    "model.fit(X_train, y_train, batch_size=32,epochs=1, verbose=1)"
   ]
  },
  {
   "cell_type": "code",
   "execution_count": 27,
   "metadata": {},
   "outputs": [
    {
     "name": "stdout",
     "output_type": "stream",
     "text": [
      "Train on 29400 samples, validate on 12600 samples\n",
      "Epoch 1/1\n",
      "29400/29400 [==============================] - 192s 7ms/step - loss: 0.0509 - acc: 0.9830 - val_loss: 0.0354 - val_acc: 0.9888\n"
     ]
    },
    {
     "data": {
      "text/plain": [
       "<keras.callbacks.History at 0x3a343940>"
      ]
     },
     "execution_count": 27,
     "metadata": {},
     "output_type": "execute_result"
    }
   ],
   "source": [
    "X_train_, X_test_, y_train_, y_test_ = train_test_split(X_train, y_train, test_size=0.3, random_state=42)\n",
    "model.fit(X_train_, y_train_, batch_size=32, epochs=1, verbose=1, validation_data=(X_test_, y_test_))"
   ]
  },
  {
   "cell_type": "code",
   "execution_count": 28,
   "metadata": {},
   "outputs": [
    {
     "name": "stdout",
     "output_type": "stream",
     "text": [
      "Train on 29400 samples, validate on 12600 samples\n",
      "Epoch 1/20\n",
      "29400/29400 [==============================] - 208s 7ms/step - loss: 0.0877 - acc: 0.9736 - val_loss: 0.0328 - val_acc: 0.9886\n",
      "Epoch 2/20\n",
      "29400/29400 [==============================] - 209s 7ms/step - loss: 0.0520 - acc: 0.9849 - val_loss: 0.0381 - val_acc: 0.9890\n",
      "Epoch 3/20\n",
      "29400/29400 [==============================] - 209s 7ms/step - loss: 0.0500 - acc: 0.9850 - val_loss: 0.0463 - val_acc: 0.9861\n",
      "Epoch 4/20\n",
      "29400/29400 [==============================] - 206s 7ms/step - loss: 0.0380 - acc: 0.9890 - val_loss: 0.0307 - val_acc: 0.9898\n",
      "Epoch 5/20\n",
      "29400/29400 [==============================] - 206s 7ms/step - loss: 0.0346 - acc: 0.9897 - val_loss: 0.0298 - val_acc: 0.9914\n",
      "Epoch 6/20\n",
      "29400/29400 [==============================] - 183s 6ms/step - loss: 0.0317 - acc: 0.9901 - val_loss: 0.0481 - val_acc: 0.9865\n",
      "Epoch 7/20\n",
      "29400/29400 [==============================] - 158s 5ms/step - loss: 0.0232 - acc: 0.9925 - val_loss: 0.0359 - val_acc: 0.9895\n",
      "Epoch 8/20\n",
      "29400/29400 [==============================] - 159s 5ms/step - loss: 0.0271 - acc: 0.9919 - val_loss: 0.0348 - val_acc: 0.9894\n",
      "Epoch 9/20\n",
      "29400/29400 [==============================] - 159s 5ms/step - loss: 0.0158 - acc: 0.9948 - val_loss: 0.0338 - val_acc: 0.9913\n",
      "Epoch 10/20\n",
      "29400/29400 [==============================] - 163s 6ms/step - loss: 0.0191 - acc: 0.9941 - val_loss: 0.0324 - val_acc: 0.9912\n",
      "Epoch 11/20\n",
      "29400/29400 [==============================] - 163s 6ms/step - loss: 0.0187 - acc: 0.9939 - val_loss: 0.0296 - val_acc: 0.9933\n",
      "Epoch 12/20\n",
      "29400/29400 [==============================] - 164s 6ms/step - loss: 0.0155 - acc: 0.9952 - val_loss: 0.0320 - val_acc: 0.9918\n",
      "Epoch 13/20\n",
      "29400/29400 [==============================] - 164s 6ms/step - loss: 0.0147 - acc: 0.9952 - val_loss: 0.0309 - val_acc: 0.9921\n",
      "Epoch 14/20\n",
      "29400/29400 [==============================] - 159s 5ms/step - loss: 0.0172 - acc: 0.9949 - val_loss: 0.0296 - val_acc: 0.9933\n",
      "Epoch 15/20\n",
      "29400/29400 [==============================] - 162s 6ms/step - loss: 0.0114 - acc: 0.9964 - val_loss: 0.0293 - val_acc: 0.9925\n",
      "Epoch 16/20\n",
      "29400/29400 [==============================] - 162s 5ms/step - loss: 0.0121 - acc: 0.9961 - val_loss: 0.0348 - val_acc: 0.9920\n",
      "Epoch 17/20\n",
      "29400/29400 [==============================] - 163s 6ms/step - loss: 0.0130 - acc: 0.9960 - val_loss: 0.0287 - val_acc: 0.9921\n",
      "Epoch 18/20\n",
      "29400/29400 [==============================] - 163s 6ms/step - loss: 0.0098 - acc: 0.9971 - val_loss: 0.0262 - val_acc: 0.9933\n",
      "Epoch 19/20\n",
      "29400/29400 [==============================] - 163s 6ms/step - loss: 0.0093 - acc: 0.9972 - val_loss: 0.0326 - val_acc: 0.9919\n",
      "Epoch 20/20\n",
      "29400/29400 [==============================] - 166s 6ms/step - loss: 0.0096 - acc: 0.9969 - val_loss: 0.0280 - val_acc: 0.9918\n"
     ]
    },
    {
     "data": {
      "text/plain": [
       "<keras.callbacks.History at 0x38b955c0>"
      ]
     },
     "execution_count": 28,
     "metadata": {},
     "output_type": "execute_result"
    }
   ],
   "source": [
    "model.fit(X_train_, y_train_, batch_size=16, epochs=20, verbose=1, validation_data=(X_test_, y_test_))"
   ]
  },
  {
   "cell_type": "code",
   "execution_count": null,
   "metadata": {},
   "outputs": [],
   "source": []
  }
 ],
 "metadata": {
  "kernelspec": {
   "display_name": "Python 3",
   "language": "python",
   "name": "python3"
  },
  "language_info": {
   "codemirror_mode": {
    "name": "ipython",
    "version": 3
   },
   "file_extension": ".py",
   "mimetype": "text/x-python",
   "name": "python",
   "nbconvert_exporter": "python",
   "pygments_lexer": "ipython3",
   "version": "3.6.5"
  }
 },
 "nbformat": 4,
 "nbformat_minor": 2
}
