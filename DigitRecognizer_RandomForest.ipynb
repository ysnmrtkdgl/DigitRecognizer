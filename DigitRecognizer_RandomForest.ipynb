{
 "cells": [
  {
   "cell_type": "code",
   "execution_count": 1,
   "metadata": {},
   "outputs": [],
   "source": [
    "import pandas as pd\n",
    "import numpy as np\n",
    "import matplotlib.pyplot as plt\n",
    "import seaborn as sns\n",
    "from sklearn.tree import DecisionTreeClassifier\n",
    "from sklearn.model_selection import train_test_split\n",
    "from sklearn.metrics import classification_report,confusion_matrix\n",
    "from sklearn.ensemble import RandomForestClassifier\n",
    "%matplotlib inline"
   ]
  },
  {
   "cell_type": "code",
   "execution_count": 2,
   "metadata": {},
   "outputs": [],
   "source": [
    "train = pd.read_csv('train.csv')\n",
    "#test = pd.read_csv('test.csv')"
   ]
  },
  {
   "cell_type": "code",
   "execution_count": 3,
   "metadata": {},
   "outputs": [],
   "source": [
    "X = train.drop('label',axis=1)\n",
    "y = train['label']\n",
    "X_train, X_test, y_train, y_test = train_test_split(X, y, test_size=0.30, random_state=42)"
   ]
  },
  {
   "cell_type": "code",
   "execution_count": 4,
   "metadata": {},
   "outputs": [
    {
     "name": "stdout",
     "output_type": "stream",
     "text": [
      "             precision    recall  f1-score   support\n",
      "\n",
      "          0       0.91      0.91      0.91      1200\n",
      "          1       0.92      0.95      0.93      1389\n",
      "          2       0.85      0.82      0.83      1294\n",
      "          3       0.78      0.79      0.79      1355\n",
      "          4       0.83      0.85      0.84      1222\n",
      "          5       0.78      0.78      0.78      1085\n",
      "          6       0.89      0.88      0.88      1256\n",
      "          7       0.89      0.89      0.89      1359\n",
      "          8       0.77      0.78      0.78      1209\n",
      "          9       0.84      0.82      0.83      1231\n",
      "\n",
      "avg / total       0.85      0.85      0.85     12600\n",
      "\n",
      "\n",
      "\n",
      "[[1088    5   16   12   10   17   20   10   17    5]\n",
      " [   0 1316   13   15    7    5    7    1   18    7]\n",
      " [  21   25 1058   45   18   13   19   33   47   15]\n",
      " [  12   20   38 1069   10   80    6   27   55   38]\n",
      " [   6   11   14   26 1041   13   20   13   27   51]\n",
      " [  16    9   21   69   21  847   34   12   36   20]\n",
      " [  18    4   17   14   34   34 1099    5   27    4]\n",
      " [  11   14   23   27   21   15    0 1203   10   35]\n",
      " [  15   25   45   56   32   44   19   11  940   22]\n",
      " [  10    4    7   32   60   23    5   42   37 1011]]\n"
     ]
    }
   ],
   "source": [
    "dtree = DecisionTreeClassifier()\n",
    "dtree.fit(X_train,y_train)\n",
    "predictions = dtree.predict(X_test)\n",
    "print(classification_report(y_test,predictions))\n",
    "print('\\n')\n",
    "print(confusion_matrix(y_test,predictions))"
   ]
  },
  {
   "cell_type": "code",
   "execution_count": 6,
   "metadata": {},
   "outputs": [
    {
     "name": "stdout",
     "output_type": "stream",
     "text": [
      "             precision    recall  f1-score   support\n",
      "\n",
      "          0       0.98      0.99      0.98      1200\n",
      "          1       0.98      0.99      0.99      1389\n",
      "          2       0.96      0.96      0.96      1294\n",
      "          3       0.96      0.94      0.95      1355\n",
      "          4       0.97      0.97      0.97      1222\n",
      "          5       0.97      0.96      0.96      1085\n",
      "          6       0.97      0.98      0.97      1256\n",
      "          7       0.97      0.96      0.96      1359\n",
      "          8       0.95      0.95      0.95      1209\n",
      "          9       0.93      0.94      0.94      1231\n",
      "\n",
      "avg / total       0.96      0.96      0.96     12600\n",
      "\n",
      "\n",
      "\n",
      "[[1185    0    2    0    2    1    5    0    5    0]\n",
      " [   0 1374    6    3    1    1    2    1    0    1]\n",
      " [   5    3 1248    5    9    0    6   10    8    0]\n",
      " [   3    1   13 1270    1   19    2   18   17   11]\n",
      " [   2    0    1    0 1182    0    8    2    4   23]\n",
      " [   1    2    2   13    1 1039   11    1    7    8]\n",
      " [   7    2    1    0    4    4 1231    0    7    0]\n",
      " [   1    5   15    2    6    0    0 1298    2   30]\n",
      " [   2    6    4    8    7    9    6    2 1152   13]\n",
      " [   5    3    3   23   11    3    3   10    7 1163]]\n"
     ]
    }
   ],
   "source": [
    "rfc = RandomForestClassifier(n_estimators=600)\n",
    "rfc.fit(X_train, y_train)\n",
    "rfc_pred = rfc.predict(X_test)\n",
    "print(classification_report(y_test,rfc_pred))\n",
    "print('\\n')\n",
    "print(confusion_matrix(y_test,rfc_pred))"
   ]
  },
  {
   "cell_type": "code",
   "execution_count": null,
   "metadata": {},
   "outputs": [],
   "source": []
  }
 ],
 "metadata": {
  "kernelspec": {
   "display_name": "Python 3",
   "language": "python",
   "name": "python3"
  },
  "language_info": {
   "codemirror_mode": {
    "name": "ipython",
    "version": 3
   },
   "file_extension": ".py",
   "mimetype": "text/x-python",
   "name": "python",
   "nbconvert_exporter": "python",
   "pygments_lexer": "ipython3",
   "version": "3.6.5"
  }
 },
 "nbformat": 4,
 "nbformat_minor": 2
}
