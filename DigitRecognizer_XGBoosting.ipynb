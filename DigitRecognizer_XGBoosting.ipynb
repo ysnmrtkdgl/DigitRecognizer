{
 "cells": [
  {
   "cell_type": "code",
   "execution_count": 1,
   "metadata": {},
   "outputs": [],
   "source": [
    "from numpy import loadtxt\n",
    "from xgboost import XGBClassifier\n",
    "from sklearn.model_selection import train_test_split\n",
    "from sklearn.metrics import accuracy_score\n",
    "import pandas as pd\n",
    "import numpy as np\n",
    "import matplotlib.pyplot as plt\n",
    "import seaborn as sns\n",
    "from sklearn.tree import DecisionTreeClassifier\n",
    "from sklearn.metrics import classification_report,confusion_matrix\n",
    "from sklearn.ensemble import RandomForestClassifier\n",
    "%matplotlib inline"
   ]
  },
  {
   "cell_type": "code",
   "execution_count": 2,
   "metadata": {},
   "outputs": [
    {
     "name": "stdout",
     "output_type": "stream",
     "text": [
      "(42000, 28, 28, 1)\n"
     ]
    }
   ],
   "source": [
    "train = pd.read_csv('train.csv')\n",
    "X= (train.iloc[:,1:].values).astype('float32') # all pixel values\n",
    "y = train.iloc[:,0].values.astype('int32') # only labels i.e targets digits\n",
    "X = X.reshape(X.shape[0], 28, 28,1)\n",
    "print(X.shape)"
   ]
  },
  {
   "cell_type": "code",
   "execution_count": 7,
   "metadata": {},
   "outputs": [],
   "source": [
    "mean = X.mean().astype(np.float32)\n",
    "std = X.std().astype(np.float32)\n",
    "\n",
    "def standardize (X):\n",
    "    return  (X - mean) / std\n",
    "\n",
    "standardize(X).mean()\n",
    "standardize(X).std()\n",
    "X = X.reshape(X.shape[0], 784)"
   ]
  },
  {
   "cell_type": "code",
   "execution_count": 8,
   "metadata": {},
   "outputs": [
    {
     "name": "stdout",
     "output_type": "stream",
     "text": [
      "(29400, 784)\n"
     ]
    }
   ],
   "source": [
    "X_train, X_test, y_train, y_test = train_test_split(X, y, test_size=0.30, random_state=42)\n",
    "print(X_train.shape)"
   ]
  },
  {
   "cell_type": "code",
   "execution_count": 9,
   "metadata": {},
   "outputs": [
    {
     "data": {
      "text/plain": [
       "XGBClassifier(base_score=0.5, booster='gbtree', colsample_bylevel=1,\n",
       "       colsample_bytree=1, gamma=0, learning_rate=0.1, max_delta_step=0,\n",
       "       max_depth=3, min_child_weight=1, missing=None, n_estimators=100,\n",
       "       n_jobs=1, nthread=None, objective='multi:softprob', random_state=0,\n",
       "       reg_alpha=0, reg_lambda=1, scale_pos_weight=1, seed=None,\n",
       "       silent=True, subsample=1)"
      ]
     },
     "execution_count": 9,
     "metadata": {},
     "output_type": "execute_result"
    }
   ],
   "source": [
    "xgboosting= XGBClassifier()\n",
    "xgboosting.fit(X_train, y_train)"
   ]
  },
  {
   "cell_type": "code",
   "execution_count": 10,
   "metadata": {},
   "outputs": [
    {
     "name": "stdout",
     "output_type": "stream",
     "text": [
      "             precision    recall  f1-score   support\n",
      "\n",
      "          0       0.97      0.98      0.97      1200\n",
      "          1       0.96      0.98      0.97      1389\n",
      "          2       0.93      0.93      0.93      1294\n",
      "          3       0.92      0.88      0.90      1355\n",
      "          4       0.91      0.93      0.92      1222\n",
      "          5       0.92      0.89      0.91      1085\n",
      "          6       0.94      0.95      0.94      1256\n",
      "          7       0.94      0.92      0.93      1359\n",
      "          8       0.91      0.92      0.92      1209\n",
      "          9       0.88      0.90      0.89      1231\n",
      "\n",
      "avg / total       0.93      0.93      0.93     12600\n",
      "\n",
      "\n",
      "\n",
      "[[1173    0    2    2    4    4    6    0    7    2]\n",
      " [   1 1368    7    3    1    1    4    1    3    0]\n",
      " [   7    6 1197   15   17    0   13   21   15    3]\n",
      " [   5   10   29 1197    1   37    8   17   27   24]\n",
      " [   1    3    4    0 1142    2    9    5    7   49]\n",
      " [   7    7    3   40   10  969   24    4   16    5]\n",
      " [  10    3    3    0   12   21 1191    1   15    0]\n",
      " [   3    8   23    5   18    4    0 1248    5   45]\n",
      " [   4   16   10   22    5    8    9    2 1111   22]\n",
      " [   3    6    7   24   39    5    1   25    9 1112]]\n"
     ]
    },
    {
     "name": "stderr",
     "output_type": "stream",
     "text": [
      "C:\\Users\\ymk13\\AppData\\Local\\Continuum\\anaconda3\\lib\\site-packages\\sklearn\\preprocessing\\label.py:151: DeprecationWarning: The truth value of an empty array is ambiguous. Returning False, but in future this will result in an error. Use `array.size > 0` to check that an array is not empty.\n",
      "  if diff:\n"
     ]
    }
   ],
   "source": [
    "predictions = xgboosting.predict(X_test)\n",
    "print(classification_report(y_test,predictions))\n",
    "print('\\n')\n",
    "print(confusion_matrix(y_test,predictions))"
   ]
  },
  {
   "cell_type": "code",
   "execution_count": null,
   "metadata": {},
   "outputs": [],
   "source": []
  }
 ],
 "metadata": {
  "kernelspec": {
   "display_name": "Python 3",
   "language": "python",
   "name": "python3"
  },
  "language_info": {
   "codemirror_mode": {
    "name": "ipython",
    "version": 3
   },
   "file_extension": ".py",
   "mimetype": "text/x-python",
   "name": "python",
   "nbconvert_exporter": "python",
   "pygments_lexer": "ipython3",
   "version": "3.6.5"
  }
 },
 "nbformat": 4,
 "nbformat_minor": 2
}
