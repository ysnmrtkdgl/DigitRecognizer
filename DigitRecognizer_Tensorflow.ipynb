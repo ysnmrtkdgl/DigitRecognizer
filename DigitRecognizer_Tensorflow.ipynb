{
 "cells": [
  {
   "cell_type": "code",
   "execution_count": 1,
   "metadata": {},
   "outputs": [
    {
     "name": "stderr",
     "output_type": "stream",
     "text": [
      "C:\\Users\\ymk13\\AppData\\Local\\Continuum\\anaconda3\\lib\\site-packages\\h5py\\__init__.py:36: FutureWarning: Conversion of the second argument of issubdtype from `float` to `np.floating` is deprecated. In future, it will be treated as `np.float64 == np.dtype(float).type`.\n",
      "  from ._conv import register_converters as _register_converters\n"
     ]
    }
   ],
   "source": [
    "import pandas as pd\n",
    "import numpy as np\n",
    "import tensorflow as tf\n",
    "import matplotlib.pyplot as plt\n",
    "import seaborn as sns\n",
    "from tensorflow.examples.tutorials.mnist import input_data\n",
    "%matplotlib inline "
   ]
  },
  {
   "cell_type": "code",
   "execution_count": 2,
   "metadata": {},
   "outputs": [
    {
     "name": "stdout",
     "output_type": "stream",
     "text": [
      "WARNING:tensorflow:From <ipython-input-2-a839aeb82f4b>:1: read_data_sets (from tensorflow.contrib.learn.python.learn.datasets.mnist) is deprecated and will be removed in a future version.\n",
      "Instructions for updating:\n",
      "Please use alternatives such as official/mnist/dataset.py from tensorflow/models.\n",
      "WARNING:tensorflow:From C:\\Users\\ymk13\\AppData\\Local\\Continuum\\anaconda3\\lib\\site-packages\\tensorflow\\contrib\\learn\\python\\learn\\datasets\\mnist.py:260: maybe_download (from tensorflow.contrib.learn.python.learn.datasets.base) is deprecated and will be removed in a future version.\n",
      "Instructions for updating:\n",
      "Please write your own downloading logic.\n",
      "WARNING:tensorflow:From C:\\Users\\ymk13\\AppData\\Local\\Continuum\\anaconda3\\lib\\site-packages\\tensorflow\\contrib\\learn\\python\\learn\\datasets\\mnist.py:262: extract_images (from tensorflow.contrib.learn.python.learn.datasets.mnist) is deprecated and will be removed in a future version.\n",
      "Instructions for updating:\n",
      "Please use tf.data to implement this functionality.\n",
      "Extracting MNIST_data/train-images-idx3-ubyte.gz\n",
      "WARNING:tensorflow:From C:\\Users\\ymk13\\AppData\\Local\\Continuum\\anaconda3\\lib\\site-packages\\tensorflow\\contrib\\learn\\python\\learn\\datasets\\mnist.py:267: extract_labels (from tensorflow.contrib.learn.python.learn.datasets.mnist) is deprecated and will be removed in a future version.\n",
      "Instructions for updating:\n",
      "Please use tf.data to implement this functionality.\n",
      "Extracting MNIST_data/train-labels-idx1-ubyte.gz\n",
      "WARNING:tensorflow:From C:\\Users\\ymk13\\AppData\\Local\\Continuum\\anaconda3\\lib\\site-packages\\tensorflow\\contrib\\learn\\python\\learn\\datasets\\mnist.py:110: dense_to_one_hot (from tensorflow.contrib.learn.python.learn.datasets.mnist) is deprecated and will be removed in a future version.\n",
      "Instructions for updating:\n",
      "Please use tf.one_hot on tensors.\n",
      "Extracting MNIST_data/t10k-images-idx3-ubyte.gz\n",
      "Extracting MNIST_data/t10k-labels-idx1-ubyte.gz\n",
      "WARNING:tensorflow:From C:\\Users\\ymk13\\AppData\\Local\\Continuum\\anaconda3\\lib\\site-packages\\tensorflow\\contrib\\learn\\python\\learn\\datasets\\mnist.py:290: DataSet.__init__ (from tensorflow.contrib.learn.python.learn.datasets.mnist) is deprecated and will be removed in a future version.\n",
      "Instructions for updating:\n",
      "Please use alternatives such as official/mnist/dataset.py from tensorflow/models.\n"
     ]
    }
   ],
   "source": [
    "mnist = input_data.read_data_sets(\"MNIST_data/\", one_hot=True)"
   ]
  },
  {
   "cell_type": "code",
   "execution_count": 3,
   "metadata": {},
   "outputs": [
    {
     "data": {
      "text/plain": [
       "(55000, 784)"
      ]
     },
     "execution_count": 3,
     "metadata": {},
     "output_type": "execute_result"
    }
   ],
   "source": [
    "mnist.train.images.shape\n"
   ]
  },
  {
   "cell_type": "code",
   "execution_count": 4,
   "metadata": {},
   "outputs": [
    {
     "data": {
      "text/plain": [
       "<matplotlib.image.AxesImage at 0x11b43198>"
      ]
     },
     "execution_count": 4,
     "metadata": {},
     "output_type": "execute_result"
    },
    {
     "data": {
      "image/png": "[encoded data removed]",
      "text/plain": [
       "<Figure size 432x288 with 1 Axes>"
      ]
     },
     "metadata": {},
     "output_type": "display_data"
    }
   ],
   "source": [
    "plt.imshow(mnist.train.images[1].reshape(28,28), cmap='Greys')"
   ]
  },
  {
   "cell_type": "code",
   "execution_count": 11,
   "metadata": {},
   "outputs": [],
   "source": [
    "learning_rate = 0.001\n",
    "number_epochs = 30\n",
    "batch_size = 100\n",
    "n_classes = 10\n",
    "n_samples = mnist.train.num_examples\n",
    "n_input = 784\n",
    "n_hidden_layer_1 = 400\n",
    "n_hidden_layer_2 = 400 \n",
    "n_hidden_layer_3 = 400"
   ]
  },
  {
   "cell_type": "code",
   "execution_count": 12,
   "metadata": {},
   "outputs": [],
   "source": [
    "def multilayer_perceptron(x, weight, biases):\n",
    "    layer_1 = tf.add(tf.matmul(x,weights['w1']), biases['b1']) ## F= f(xW+B)\n",
    "    layer_1 = tf.nn.relu(layer_1) ##relu(x) = max(0,x)\n",
    "    layer_2 = tf.add(tf.matmul(layer_1,weights['w2']), biases['b2']) \n",
    "    layer_2 = tf.nn.relu(layer_2) \n",
    "    layer_3 = tf.add(tf.matmul(layer_2,weights['w3']), biases['b3']) \n",
    "    layer_3 = tf.nn.relu(layer_3) \n",
    "    layer_out = tf.add(tf.matmul(layer_3,weights['out']), biases['out']) \n",
    "    \n",
    "    return layer_out\n",
    "\n",
    "weights = {'w1':tf.Variable(tf.random_normal([n_input,n_hidden_layer_1])),\n",
    "           'w2':tf.Variable(tf.random_normal([n_hidden_layer_1,n_hidden_layer_2])),\n",
    "           'w3':tf.Variable(tf.random_normal([n_hidden_layer_2,n_hidden_layer_3])),\n",
    "           'out':tf.Variable(tf.random_normal([n_hidden_layer_3,n_classes]))\n",
    "          }\n",
    "\n",
    "biases  = {'b1':tf.Variable(tf.random_normal([n_hidden_layer_1])),\n",
    "           'b2':tf.Variable(tf.random_normal([n_hidden_layer_2])),\n",
    "           'b3':tf.Variable(tf.random_normal([n_hidden_layer_3])),\n",
    "           'out':tf.Variable(tf.random_normal([n_classes]))\n",
    "          }\n",
    "\n",
    "x = tf.placeholder('float', [None,n_input])\n",
    "y = tf.placeholder('float', [None,n_classes])"
   ]
  },
  {
   "cell_type": "code",
   "execution_count": 13,
   "metadata": {},
   "outputs": [],
   "source": [
    "predictions = multilayer_perceptron(x,weights,biases)\n",
    "cost = tf.reduce_mean(tf.nn.softmax_cross_entropy_with_logits(labels=y,logits=predictions))\n",
    "optimizer = tf.train.AdamOptimizer(learning_rate=learning_rate).minimize(cost)"
   ]
  },
  {
   "cell_type": "code",
   "execution_count": 14,
   "metadata": {},
   "outputs": [
    {
     "name": "stderr",
     "output_type": "stream",
     "text": [
      "C:\\Users\\ymk13\\AppData\\Local\\Continuum\\anaconda3\\lib\\site-packages\\tensorflow\\python\\client\\session.py:1645: UserWarning: An interactive session is already active. This can cause out-of-memory errors in some cases. You must explicitly call `InteractiveSession.close()` to release resources held by the other session(s).\n",
      "  warnings.warn('An interactive session is already active. This can '\n"
     ]
    }
   ],
   "source": [
    "sess = tf.InteractiveSession()\n",
    "init = tf.initialize_all_variables()\n",
    "sess.run(init)"
   ]
  },
  {
   "cell_type": "code",
   "execution_count": 15,
   "metadata": {},
   "outputs": [
    {
     "name": "stdout",
     "output_type": "stream",
     "text": [
      "Epoch:1 cost2602.3858\n",
      "Epoch:2 cost614.3627\n",
      "Epoch:3 cost344.5382\n",
      "Epoch:4 cost214.3838\n",
      "Epoch:5 cost133.4527\n",
      "Epoch:6 cost91.4200\n",
      "Epoch:7 cost58.3353\n",
      "Epoch:8 cost43.7084\n",
      "Epoch:9 cost31.3545\n",
      "Epoch:10 cost22.9525\n",
      "Epoch:11 cost23.3436\n",
      "Epoch:12 cost19.9309\n",
      "Epoch:13 cost17.9276\n",
      "Epoch:14 cost14.8961\n",
      "Epoch:15 cost15.6889\n",
      "Epoch:16 cost16.9653\n",
      "Epoch:17 cost14.7666\n",
      "Epoch:18 cost13.0258\n",
      "Epoch:19 cost14.7334\n",
      "Epoch:20 cost12.0816\n",
      "Epoch:21 cost8.7667\n",
      "Epoch:22 cost9.3940\n",
      "Epoch:23 cost11.0889\n",
      "Epoch:24 cost11.0567\n",
      "Epoch:25 cost8.9841\n",
      "Epoch:26 cost7.0539\n",
      "Epoch:27 cost8.8328\n",
      "Epoch:28 cost8.0773\n",
      "Epoch:29 cost9.9778\n",
      "Epoch:30 cost8.2193\n",
      "Model has completed 30 Epochs of training\n"
     ]
    }
   ],
   "source": [
    "for epoch in range(number_epochs):\n",
    "    average_cost = 0.0\n",
    "    number_batch = int(n_samples/batch_size)\n",
    "    for i in range(number_batch):\n",
    "        batch_x,batch_y = mnist.train.next_batch(batch_size)\n",
    "        _,c = sess.run([optimizer,cost],feed_dict={x:batch_x, y:batch_y})\n",
    "        average_cost = average_cost + c / number_batch\n",
    "    print(\"Epoch:{} cost{:.4f}\".format(epoch+1,average_cost))\n",
    "print(\"Model has completed {} Epochs of training\".format(number_epochs))"
   ]
  },
  {
   "cell_type": "code",
   "execution_count": 16,
   "metadata": {},
   "outputs": [
    {
     "data": {
      "text/plain": [
       "0.9644"
      ]
     },
     "execution_count": 16,
     "metadata": {},
     "output_type": "execute_result"
    }
   ],
   "source": [
    "correct_predictions = tf.equal(tf.argmax(predictions,1), tf.argmax(y,1) )\n",
    "correct_predictions = tf.cast(correct_predictions, 'float') ##from boolen to float\n",
    "accuracy = tf.reduce_mean(correct_predictions)##??\n",
    "accuracy.eval({x:mnist.test.images, y:mnist.test.labels})"
   ]
  },
  {
   "cell_type": "code",
   "execution_count": null,
   "metadata": {},
   "outputs": [],
   "source": []
  }
 ],
 "metadata": {
  "kernelspec": {
   "display_name": "Python 3",
   "language": "python",
   "name": "python3"
  },
  "language_info": {
   "codemirror_mode": {
    "name": "ipython",
    "version": 3
   },
   "file_extension": ".py",
   "mimetype": "text/x-python",
   "name": "python",
   "nbconvert_exporter": "python",
   "pygments_lexer": "ipython3",
   "version": "3.6.5"
  }
 },
 "nbformat": 4,
 "nbformat_minor": 2
}
